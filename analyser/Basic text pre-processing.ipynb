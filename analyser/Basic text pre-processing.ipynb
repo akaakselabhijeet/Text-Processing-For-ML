{
 "cells": [
  {
   "cell_type": "markdown",
   "metadata": {},
   "source": [
    "### BASIC TEXT PREPROCESSING"
   ]
  },
  {
   "cell_type": "code",
   "execution_count": null,
   "metadata": {},
   "outputs": [],
   "source": [
    "#written by- abhijeet das\n",
    "#feel free to add more ways of text analysis"
   ]
  },
  {
   "cell_type": "code",
   "execution_count": 4,
   "metadata": {},
   "outputs": [
    {
     "name": "stdout",
     "output_type": "stream",
     "text": [
      "Original String :  Mah boi is noice $*^$*&* and perfect\n",
      "Modified String : Mah boi is noice  and perfect\n"
     ]
    }
   ],
   "source": [
    "#remove special characters\n",
    "\n",
    "chars = [';', ':', '!', \"*\",\"$\",\"^\",\"&\"]\n",
    "string = \"Mah boi is noice $*^$*&* and perfect\"\n",
    "print(\"Original String : \",string)\n",
    "\n",
    "# using replace() to \n",
    "# remove chars \n",
    "for i in chars :\n",
    "    string = string.replace(i, '')\n",
    "\n",
    "print (\"Modified String : \" + str(string))"
   ]
  },
  {
   "cell_type": "code",
   "execution_count": 7,
   "metadata": {},
   "outputs": [
    {
     "name": "stdout",
     "output_type": "stream",
     "text": [
      "Uppercase-  MAH BOI IS GREAT\n",
      "Lowercase-  mah bois are noice\n"
     ]
    }
   ],
   "source": [
    "#Case modification\n",
    "\n",
    "string = \"mah boi is great\"\n",
    "string_2 = \"MAH BOIS ARE NOICE\"\n",
    "string = string.upper()\n",
    "string_2 = string_2.lower()\n",
    "print(\"Uppercase- \",string)\n",
    "print(\"Lowercase- \",string_2)"
   ]
  },
  {
   "cell_type": "code",
   "execution_count": 10,
   "metadata": {},
   "outputs": [
    {
     "name": "stdout",
     "output_type": "stream",
     "text": [
      "original text:  abhijeet is a guud boi\n",
      "corrected text:  abhijeet is a good boy\n"
     ]
    }
   ],
   "source": [
    "#correct the given string\n",
    "\n",
    "from textblob import TextBlob as tblob\n",
    " \n",
    "x = \"abhijeet is a guud boi\"  # incorrect spelling\n",
    "print(\"original text: \",str(x)) \n",
    "y = tblob(x)  #correct spelling\n",
    "print(\"corrected text: \",str(y.correct()))"
   ]
  },
  {
   "cell_type": "code",
   "execution_count": 13,
   "metadata": {},
   "outputs": [
    {
     "name": "stdout",
     "output_type": "stream",
     "text": [
      "input text:  abhijeet is a gut mann\n",
      "text language:  de\n"
     ]
    }
   ],
   "source": [
    "#detect text language\n",
    "\n",
    "from textblob import TextBlob as tblob\n",
    " \n",
    "x = \"abhijeet is a gut mann\"  #german text(de)\n",
    "print(\"input text: \",str(x)) \n",
    "y = tblob(x)\n",
    "print(\"text language: \",str(y.detect_language()))"
   ]
  },
  {
   "cell_type": "code",
   "execution_count": 3,
   "metadata": {},
   "outputs": [
    {
     "name": "stdout",
     "output_type": "stream",
     "text": [
      "Number of words-  8\n",
      "['mah', 'boi', 'is', 'great,', 'he', 'is', 'doing', 'great']\n"
     ]
    }
   ],
   "source": [
    "#count and list\n",
    "string = \"mah boi is great, he is doing great\"\n",
    "\n",
    "print(\"Number of words- \",len(string.split()))\n",
    "print(string.split())"
   ]
  },
  {
   "cell_type": "code",
   "execution_count": 15,
   "metadata": {
    "scrolled": true
   },
   "outputs": [
    {
     "name": "stdout",
     "output_type": "stream",
     "text": [
      "String:\n",
      "mah boi is sweet and nice and also he has got a good technical skills moreover, he loves pizza, a lot of pizza\n",
      "\n",
      "List:\n",
      "['mah', 'boi', 'is', 'sweet', 'and', 'nice', 'and', 'also', 'he', 'has', 'got', 'a', 'good', 'technical', 'skills', 'moreover,', 'he', 'loves', 'pizza,', 'a', 'lot', 'of', 'pizza']\n",
      "\n",
      "Frequencies:\n",
      "[1, 1, 1, 1, 2, 1, 2, 1, 2, 1, 1, 2, 1, 1, 1, 1, 2, 1, 1, 2, 1, 1, 1]\n",
      "\n",
      "Pairs:\n",
      " [('mah', 1), ('boi', 1), ('is', 1), ('sweet', 1), ('and', 2), ('nice', 1), ('and', 2), ('also', 1), ('he', 2), ('has', 1), ('got', 1), ('a', 2), ('good', 1), ('technical', 1), ('skills', 1), ('moreover,', 1), ('he', 2), ('loves', 1), ('pizza,', 1), ('a', 2), ('lot', 1), ('of', 1), ('pizza', 1)]\n"
     ]
    }
   ],
   "source": [
    "#Word frequency and letter frequency\n",
    "\n",
    "string = 'mah boi is sweet and nice '\n",
    "string += 'and also he has got a good technical skills '\n",
    "string += 'moreover, he loves pizza, a lot of pizza'\n",
    "\n",
    "wordlist = string.split()\n",
    "\n",
    "freq = []\n",
    "for w in wordlist:\n",
    "    freq.append(wordlist.count(w))\n",
    "\n",
    "print(\"String:\\n\" + string +\"\\n\")\n",
    "print(\"List:\\n\" + str(wordlist) + \"\\n\")\n",
    "print(\"Frequencies:\\n\" + str(freq) + \"\\n\")\n",
    "print(\"Pairs:\\n\",str(list(zip(wordlist, freq))))"
   ]
  },
  {
   "cell_type": "code",
   "execution_count": null,
   "metadata": {},
   "outputs": [],
   "source": []
  }
 ],
 "metadata": {
  "kernelspec": {
   "display_name": "Python 3",
   "language": "python",
   "name": "python3"
  },
  "language_info": {
   "codemirror_mode": {
    "name": "ipython",
    "version": 3
   },
   "file_extension": ".py",
   "mimetype": "text/x-python",
   "name": "python",
   "nbconvert_exporter": "python",
   "pygments_lexer": "ipython3",
   "version": "3.8.5"
  }
 },
 "nbformat": 4,
 "nbformat_minor": 4
}
